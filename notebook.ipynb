{
 "cells": [
  {
   "cell_type": "markdown",
   "id": "b8ec5d44",
   "metadata": {},
   "source": [
    "## `Influence of Machine Learning on the Diagnosis of Cardiovascular Diseases`"
   ]
  },
  {
   "cell_type": "markdown",
   "id": "6aeec915",
   "metadata": {},
   "source": [
    "### `Problem Statement`"
   ]
  },
  {
   "cell_type": "markdown",
   "id": "096f3092",
   "metadata": {},
   "source": []
  }
 ],
 "metadata": {
  "language_info": {
   "name": "python"
  }
 },
 "nbformat": 4,
 "nbformat_minor": 5
}
