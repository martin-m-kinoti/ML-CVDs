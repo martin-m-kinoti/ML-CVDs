{
 "cells": [
  {
   "cell_type": "markdown",
   "id": "b8ec5d44",
   "metadata": {},
   "source": [
    "## `Influence of Machine Learning on the Diagnosis of Cardiovascular Diseases`"
   ]
  },
  {
   "cell_type": "markdown",
   "id": "6aeec915",
   "metadata": {},
   "source": [
    "### `Problem Statement`"
   ]
  },
  {
   "cell_type": "markdown",
   "id": "096f3092",
   "metadata": {},
   "source": [
    "Cardiovascular Diseases (CVDs) are considered the leading cause of mortality globally, with at least `80%` of deaths associated with heart disease and strokes in individuals below the age of `70 years` (Rana et al., 2025). Indications that a patient has CVD are high levels of biomarkers in their blood, significant chest pain and abnormal readings on an ECG. Surprisingly, a lot of patients with CVD are difficult to diagnose using ECG when their results are largely normal. Therefore, the use of AI approaches can make a significant difference in how we diagnose CVD, ultimately improving the outcomes."
   ]
  },
  {
   "cell_type": "markdown",
   "id": "20bf3fb5",
   "metadata": {},
   "source": [
    "### `Objectives`"
   ]
  },
  {
   "cell_type": "markdown",
   "id": "b106d95e",
   "metadata": {},
   "source": [
    "#### `General Objective`\n",
    "- To develop a machine learning predictive model to aid in the diagnosis of cardiovascular diseases."
   ]
  },
  {
   "cell_type": "markdown",
   "id": "fc3b93b9",
   "metadata": {},
   "source": [
    "#### `Specific Objectives`"
   ]
  },
  {
   "cell_type": "markdown",
   "id": "2e9d7bc5",
   "metadata": {},
   "source": [
    "- To examine the appliations of machine learning in the diagnosis of CVDs.\n",
    "- To evaluate the accuracy of machine learning tools in the diagnosis of CVDs.\n",
    "- To design a machine learning model to diagnose CVDs.\n",
    "- To evaluate and validate the developed CVDs diagnosing machine learning model using performance metrics."
   ]
  },
  {
   "cell_type": "markdown",
   "id": "41c582e7",
   "metadata": {},
   "source": [
    "### `Data Understanding`"
   ]
  },
  {
   "cell_type": "markdown",
   "id": "6f0a2cbc",
   "metadata": {},
   "source": [
    "The source of the data is: [kaggle](https://www.kaggle.com/datasets/sulianova/cardiovascular-disease-dataset)\n",
    "\n",
    "`DISCLAIMER:` Kaggle datasets are meant for simulations and modelling, and not necessarily reflect the real word context.\n",
    "\n",
    "The data used in this study comprises of: \n",
    "- `Age` | Objective Feature | age | int (days)\n",
    "- `Height` | Objective Feature | height | int (cm) |\n",
    "- `Weight` | Objective Feature | weight | float (kg) |\n",
    "- `Gender` | Objective Feature | gender | categorical code |\n",
    "- `Systolic blood pressure` | Examination Feature | ap_hi | int |\n",
    "- `Diastolic blood pressure` | Examination Feature | ap_lo | int |\n",
    "- `Cholesterol` | Examination Feature | cholesterol | 1: normal, 2: above normal, 3: well above normal |\n",
    "- `Glucose` | Examination Feature | gluc | 1: normal, 2: above normal, 3: well above normal |\n",
    "- `Smoking` | Subjective Feature | smoke | binary |\n",
    "- `Alcohol intake` | Subjective Feature | alco | binary |\n",
    "- `Physical activity` | Subjective Feature | active | binary |\n",
    "- `Presence or absence of cardiovascular disease` | Target Variable | cardio | binary |"
   ]
  },
  {
   "cell_type": "markdown",
   "id": "4f0f79e2",
   "metadata": {
    "vscode": {
     "languageId": "plaintext"
    }
   },
   "source": [
    "### `Performance Metrics`"
   ]
  },
  {
   "cell_type": "markdown",
   "id": "44b97403",
   "metadata": {
    "vscode": {
     "languageId": "plaintext"
    }
   },
   "source": [
    "- `Precision`: The desired precision score for this diagnosis support system is of range `0.80 - 0.95+`. Critical for minimizing unnecessary treatments.\n",
    "- `Recall`: Recall score equal or greater than `0.85`. Important for not missing real disease cases.\n",
    "- "
   ]
  },
  {
   "cell_type": "markdown",
   "id": "3a7aa2f8",
   "metadata": {},
   "source": [
    "### `Libraries`"
   ]
  },
  {
   "cell_type": "code",
   "execution_count": 39,
   "id": "9fb93b0b",
   "metadata": {},
   "outputs": [],
   "source": [
    "# Custom\n",
    "from functions import duplicated\n",
    "# Standard\n",
    "import pandas as pd \n",
    "from ydata_profiling import ProfileReport\n",
    "import numpy as np \n",
    "import scipy.stats as st\n",
    "import matplotlib.pyplot as plt \n",
    "%matplotlib inline\n",
    "import seaborn as sns\n",
    "import warnings\n",
    "warnings.filterwarnings('ignore')"
   ]
  },
  {
   "cell_type": "markdown",
   "id": "949930a9",
   "metadata": {},
   "source": [
    "### `Load the data`"
   ]
  },
  {
   "cell_type": "code",
   "execution_count": 2,
   "id": "4fefda67",
   "metadata": {},
   "outputs": [
    {
     "data": {
      "text/html": [
       "<div>\n",
       "<style scoped>\n",
       "    .dataframe tbody tr th:only-of-type {\n",
       "        vertical-align: middle;\n",
       "    }\n",
       "\n",
       "    .dataframe tbody tr th {\n",
       "        vertical-align: top;\n",
       "    }\n",
       "\n",
       "    .dataframe thead th {\n",
       "        text-align: right;\n",
       "    }\n",
       "</style>\n",
       "<table border=\"1\" class=\"dataframe\">\n",
       "  <thead>\n",
       "    <tr style=\"text-align: right;\">\n",
       "      <th></th>\n",
       "      <th>age</th>\n",
       "      <th>gender</th>\n",
       "      <th>height</th>\n",
       "      <th>weight</th>\n",
       "      <th>ap_hi</th>\n",
       "      <th>ap_lo</th>\n",
       "      <th>cholesterol</th>\n",
       "      <th>gluc</th>\n",
       "      <th>smoke</th>\n",
       "      <th>alco</th>\n",
       "      <th>active</th>\n",
       "      <th>cardio</th>\n",
       "    </tr>\n",
       "    <tr>\n",
       "      <th>id</th>\n",
       "      <th></th>\n",
       "      <th></th>\n",
       "      <th></th>\n",
       "      <th></th>\n",
       "      <th></th>\n",
       "      <th></th>\n",
       "      <th></th>\n",
       "      <th></th>\n",
       "      <th></th>\n",
       "      <th></th>\n",
       "      <th></th>\n",
       "      <th></th>\n",
       "    </tr>\n",
       "  </thead>\n",
       "  <tbody>\n",
       "    <tr>\n",
       "      <th>0</th>\n",
       "      <td>18393</td>\n",
       "      <td>2</td>\n",
       "      <td>168</td>\n",
       "      <td>62.0</td>\n",
       "      <td>110</td>\n",
       "      <td>80</td>\n",
       "      <td>1</td>\n",
       "      <td>1</td>\n",
       "      <td>0</td>\n",
       "      <td>0</td>\n",
       "      <td>1</td>\n",
       "      <td>0</td>\n",
       "    </tr>\n",
       "    <tr>\n",
       "      <th>1</th>\n",
       "      <td>20228</td>\n",
       "      <td>1</td>\n",
       "      <td>156</td>\n",
       "      <td>85.0</td>\n",
       "      <td>140</td>\n",
       "      <td>90</td>\n",
       "      <td>3</td>\n",
       "      <td>1</td>\n",
       "      <td>0</td>\n",
       "      <td>0</td>\n",
       "      <td>1</td>\n",
       "      <td>1</td>\n",
       "    </tr>\n",
       "    <tr>\n",
       "      <th>2</th>\n",
       "      <td>18857</td>\n",
       "      <td>1</td>\n",
       "      <td>165</td>\n",
       "      <td>64.0</td>\n",
       "      <td>130</td>\n",
       "      <td>70</td>\n",
       "      <td>3</td>\n",
       "      <td>1</td>\n",
       "      <td>0</td>\n",
       "      <td>0</td>\n",
       "      <td>0</td>\n",
       "      <td>1</td>\n",
       "    </tr>\n",
       "    <tr>\n",
       "      <th>3</th>\n",
       "      <td>17623</td>\n",
       "      <td>2</td>\n",
       "      <td>169</td>\n",
       "      <td>82.0</td>\n",
       "      <td>150</td>\n",
       "      <td>100</td>\n",
       "      <td>1</td>\n",
       "      <td>1</td>\n",
       "      <td>0</td>\n",
       "      <td>0</td>\n",
       "      <td>1</td>\n",
       "      <td>1</td>\n",
       "    </tr>\n",
       "    <tr>\n",
       "      <th>4</th>\n",
       "      <td>17474</td>\n",
       "      <td>1</td>\n",
       "      <td>156</td>\n",
       "      <td>56.0</td>\n",
       "      <td>100</td>\n",
       "      <td>60</td>\n",
       "      <td>1</td>\n",
       "      <td>1</td>\n",
       "      <td>0</td>\n",
       "      <td>0</td>\n",
       "      <td>0</td>\n",
       "      <td>0</td>\n",
       "    </tr>\n",
       "    <tr>\n",
       "      <th>8</th>\n",
       "      <td>21914</td>\n",
       "      <td>1</td>\n",
       "      <td>151</td>\n",
       "      <td>67.0</td>\n",
       "      <td>120</td>\n",
       "      <td>80</td>\n",
       "      <td>2</td>\n",
       "      <td>2</td>\n",
       "      <td>0</td>\n",
       "      <td>0</td>\n",
       "      <td>0</td>\n",
       "      <td>0</td>\n",
       "    </tr>\n",
       "    <tr>\n",
       "      <th>9</th>\n",
       "      <td>22113</td>\n",
       "      <td>1</td>\n",
       "      <td>157</td>\n",
       "      <td>93.0</td>\n",
       "      <td>130</td>\n",
       "      <td>80</td>\n",
       "      <td>3</td>\n",
       "      <td>1</td>\n",
       "      <td>0</td>\n",
       "      <td>0</td>\n",
       "      <td>1</td>\n",
       "      <td>0</td>\n",
       "    </tr>\n",
       "    <tr>\n",
       "      <th>12</th>\n",
       "      <td>22584</td>\n",
       "      <td>2</td>\n",
       "      <td>178</td>\n",
       "      <td>95.0</td>\n",
       "      <td>130</td>\n",
       "      <td>90</td>\n",
       "      <td>3</td>\n",
       "      <td>3</td>\n",
       "      <td>0</td>\n",
       "      <td>0</td>\n",
       "      <td>1</td>\n",
       "      <td>1</td>\n",
       "    </tr>\n",
       "    <tr>\n",
       "      <th>13</th>\n",
       "      <td>17668</td>\n",
       "      <td>1</td>\n",
       "      <td>158</td>\n",
       "      <td>71.0</td>\n",
       "      <td>110</td>\n",
       "      <td>70</td>\n",
       "      <td>1</td>\n",
       "      <td>1</td>\n",
       "      <td>0</td>\n",
       "      <td>0</td>\n",
       "      <td>1</td>\n",
       "      <td>0</td>\n",
       "    </tr>\n",
       "    <tr>\n",
       "      <th>14</th>\n",
       "      <td>19834</td>\n",
       "      <td>1</td>\n",
       "      <td>164</td>\n",
       "      <td>68.0</td>\n",
       "      <td>110</td>\n",
       "      <td>60</td>\n",
       "      <td>1</td>\n",
       "      <td>1</td>\n",
       "      <td>0</td>\n",
       "      <td>0</td>\n",
       "      <td>0</td>\n",
       "      <td>0</td>\n",
       "    </tr>\n",
       "  </tbody>\n",
       "</table>\n",
       "</div>"
      ],
      "text/plain": [
       "      age  gender  height  weight  ap_hi  ap_lo  cholesterol  gluc  smoke  \\\n",
       "id                                                                          \n",
       "0   18393       2     168    62.0    110     80            1     1      0   \n",
       "1   20228       1     156    85.0    140     90            3     1      0   \n",
       "2   18857       1     165    64.0    130     70            3     1      0   \n",
       "3   17623       2     169    82.0    150    100            1     1      0   \n",
       "4   17474       1     156    56.0    100     60            1     1      0   \n",
       "8   21914       1     151    67.0    120     80            2     2      0   \n",
       "9   22113       1     157    93.0    130     80            3     1      0   \n",
       "12  22584       2     178    95.0    130     90            3     3      0   \n",
       "13  17668       1     158    71.0    110     70            1     1      0   \n",
       "14  19834       1     164    68.0    110     60            1     1      0   \n",
       "\n",
       "    alco  active  cardio  \n",
       "id                        \n",
       "0      0       1       0  \n",
       "1      0       1       1  \n",
       "2      0       0       1  \n",
       "3      0       1       1  \n",
       "4      0       0       0  \n",
       "8      0       0       0  \n",
       "9      0       1       0  \n",
       "12     0       1       1  \n",
       "13     0       1       0  \n",
       "14     0       0       0  "
      ]
     },
     "execution_count": 2,
     "metadata": {},
     "output_type": "execute_result"
    }
   ],
   "source": [
    "data = pd.read_csv(\"archive\\cardio_train.csv\", index_col=0, sep=\";\")\n",
    "data.head(10)"
   ]
  },
  {
   "cell_type": "code",
   "execution_count": 3,
   "id": "879162e6",
   "metadata": {},
   "outputs": [
    {
     "data": {
      "application/vnd.jupyter.widget-view+json": {
       "model_id": "eb09f69c42cc4992aea20f03887def70",
       "version_major": 2,
       "version_minor": 0
      },
      "text/plain": [
       "Summarize dataset:   0%|          | 0/5 [00:00<?, ?it/s]"
      ]
     },
     "metadata": {},
     "output_type": "display_data"
    },
    {
     "data": {
      "application/vnd.jupyter.widget-view+json": {
       "model_id": "5aa25d4e3b5f45a4b4690588d5e995cc",
       "version_major": 2,
       "version_minor": 0
      },
      "text/plain": [
       "Generate report structure:   0%|          | 0/1 [00:00<?, ?it/s]"
      ]
     },
     "metadata": {},
     "output_type": "display_data"
    },
    {
     "data": {
      "application/vnd.jupyter.widget-view+json": {
       "model_id": "f34af9dbfe9f4fff87eccdbbfdb42064",
       "version_major": 2,
       "version_minor": 0
      },
      "text/plain": [
       "Render HTML:   0%|          | 0/1 [00:00<?, ?it/s]"
      ]
     },
     "metadata": {},
     "output_type": "display_data"
    },
    {
     "data": {
      "application/vnd.jupyter.widget-view+json": {
       "model_id": "fc58be865acc47709715f75631397fab",
       "version_major": 2,
       "version_minor": 0
      },
      "text/plain": [
       "Export report to file:   0%|          | 0/1 [00:00<?, ?it/s]"
      ]
     },
     "metadata": {},
     "output_type": "display_data"
    }
   ],
   "source": [
    "# Data report \n",
    "ProfileReport(data).to_file(\"DataReport.html\")"
   ]
  },
  {
   "cell_type": "code",
   "execution_count": 4,
   "id": "a08b8111",
   "metadata": {},
   "outputs": [
    {
     "data": {
      "text/plain": [
       "'Number of duplicated records: 24'"
      ]
     },
     "execution_count": 4,
     "metadata": {},
     "output_type": "execute_result"
    }
   ],
   "source": [
    "# Duplicated records\n",
    "duplicated(data)"
   ]
  },
  {
   "cell_type": "markdown",
   "id": "0ae60427",
   "metadata": {},
   "source": [
    "- The data has no missing records.\n",
    "- The data has 24 duplicated records."
   ]
  },
  {
   "cell_type": "markdown",
   "id": "f1c9452b",
   "metadata": {},
   "source": [
    "### `Data Handling`"
   ]
  },
  {
   "cell_type": "markdown",
   "id": "e0c1560a",
   "metadata": {},
   "source": [
    "#### `Age and Gender`\n",
    "- Change the age column from days to years.\n",
    "- `Assumption:` One year is equal to 365 days."
   ]
  },
  {
   "cell_type": "code",
   "execution_count": 5,
   "id": "d5bb6edb",
   "metadata": {},
   "outputs": [
    {
     "data": {
      "text/html": [
       "<div>\n",
       "<style scoped>\n",
       "    .dataframe tbody tr th:only-of-type {\n",
       "        vertical-align: middle;\n",
       "    }\n",
       "\n",
       "    .dataframe tbody tr th {\n",
       "        vertical-align: top;\n",
       "    }\n",
       "\n",
       "    .dataframe thead th {\n",
       "        text-align: right;\n",
       "    }\n",
       "</style>\n",
       "<table border=\"1\" class=\"dataframe\">\n",
       "  <thead>\n",
       "    <tr style=\"text-align: right;\">\n",
       "      <th></th>\n",
       "      <th>age</th>\n",
       "      <th>gender</th>\n",
       "      <th>height</th>\n",
       "      <th>weight</th>\n",
       "      <th>ap_hi</th>\n",
       "      <th>ap_lo</th>\n",
       "      <th>cholesterol</th>\n",
       "      <th>gluc</th>\n",
       "      <th>smoke</th>\n",
       "      <th>alco</th>\n",
       "      <th>active</th>\n",
       "      <th>cardio</th>\n",
       "    </tr>\n",
       "    <tr>\n",
       "      <th>id</th>\n",
       "      <th></th>\n",
       "      <th></th>\n",
       "      <th></th>\n",
       "      <th></th>\n",
       "      <th></th>\n",
       "      <th></th>\n",
       "      <th></th>\n",
       "      <th></th>\n",
       "      <th></th>\n",
       "      <th></th>\n",
       "      <th></th>\n",
       "      <th></th>\n",
       "    </tr>\n",
       "  </thead>\n",
       "  <tbody>\n",
       "    <tr>\n",
       "      <th>0</th>\n",
       "      <td>50</td>\n",
       "      <td>2</td>\n",
       "      <td>168</td>\n",
       "      <td>62.0</td>\n",
       "      <td>110</td>\n",
       "      <td>80</td>\n",
       "      <td>1</td>\n",
       "      <td>1</td>\n",
       "      <td>0</td>\n",
       "      <td>0</td>\n",
       "      <td>1</td>\n",
       "      <td>0</td>\n",
       "    </tr>\n",
       "    <tr>\n",
       "      <th>1</th>\n",
       "      <td>55</td>\n",
       "      <td>1</td>\n",
       "      <td>156</td>\n",
       "      <td>85.0</td>\n",
       "      <td>140</td>\n",
       "      <td>90</td>\n",
       "      <td>3</td>\n",
       "      <td>1</td>\n",
       "      <td>0</td>\n",
       "      <td>0</td>\n",
       "      <td>1</td>\n",
       "      <td>1</td>\n",
       "    </tr>\n",
       "    <tr>\n",
       "      <th>2</th>\n",
       "      <td>51</td>\n",
       "      <td>1</td>\n",
       "      <td>165</td>\n",
       "      <td>64.0</td>\n",
       "      <td>130</td>\n",
       "      <td>70</td>\n",
       "      <td>3</td>\n",
       "      <td>1</td>\n",
       "      <td>0</td>\n",
       "      <td>0</td>\n",
       "      <td>0</td>\n",
       "      <td>1</td>\n",
       "    </tr>\n",
       "    <tr>\n",
       "      <th>3</th>\n",
       "      <td>48</td>\n",
       "      <td>2</td>\n",
       "      <td>169</td>\n",
       "      <td>82.0</td>\n",
       "      <td>150</td>\n",
       "      <td>100</td>\n",
       "      <td>1</td>\n",
       "      <td>1</td>\n",
       "      <td>0</td>\n",
       "      <td>0</td>\n",
       "      <td>1</td>\n",
       "      <td>1</td>\n",
       "    </tr>\n",
       "    <tr>\n",
       "      <th>4</th>\n",
       "      <td>47</td>\n",
       "      <td>1</td>\n",
       "      <td>156</td>\n",
       "      <td>56.0</td>\n",
       "      <td>100</td>\n",
       "      <td>60</td>\n",
       "      <td>1</td>\n",
       "      <td>1</td>\n",
       "      <td>0</td>\n",
       "      <td>0</td>\n",
       "      <td>0</td>\n",
       "      <td>0</td>\n",
       "    </tr>\n",
       "    <tr>\n",
       "      <th>8</th>\n",
       "      <td>60</td>\n",
       "      <td>1</td>\n",
       "      <td>151</td>\n",
       "      <td>67.0</td>\n",
       "      <td>120</td>\n",
       "      <td>80</td>\n",
       "      <td>2</td>\n",
       "      <td>2</td>\n",
       "      <td>0</td>\n",
       "      <td>0</td>\n",
       "      <td>0</td>\n",
       "      <td>0</td>\n",
       "    </tr>\n",
       "    <tr>\n",
       "      <th>9</th>\n",
       "      <td>60</td>\n",
       "      <td>1</td>\n",
       "      <td>157</td>\n",
       "      <td>93.0</td>\n",
       "      <td>130</td>\n",
       "      <td>80</td>\n",
       "      <td>3</td>\n",
       "      <td>1</td>\n",
       "      <td>0</td>\n",
       "      <td>0</td>\n",
       "      <td>1</td>\n",
       "      <td>0</td>\n",
       "    </tr>\n",
       "    <tr>\n",
       "      <th>12</th>\n",
       "      <td>61</td>\n",
       "      <td>2</td>\n",
       "      <td>178</td>\n",
       "      <td>95.0</td>\n",
       "      <td>130</td>\n",
       "      <td>90</td>\n",
       "      <td>3</td>\n",
       "      <td>3</td>\n",
       "      <td>0</td>\n",
       "      <td>0</td>\n",
       "      <td>1</td>\n",
       "      <td>1</td>\n",
       "    </tr>\n",
       "    <tr>\n",
       "      <th>13</th>\n",
       "      <td>48</td>\n",
       "      <td>1</td>\n",
       "      <td>158</td>\n",
       "      <td>71.0</td>\n",
       "      <td>110</td>\n",
       "      <td>70</td>\n",
       "      <td>1</td>\n",
       "      <td>1</td>\n",
       "      <td>0</td>\n",
       "      <td>0</td>\n",
       "      <td>1</td>\n",
       "      <td>0</td>\n",
       "    </tr>\n",
       "    <tr>\n",
       "      <th>14</th>\n",
       "      <td>54</td>\n",
       "      <td>1</td>\n",
       "      <td>164</td>\n",
       "      <td>68.0</td>\n",
       "      <td>110</td>\n",
       "      <td>60</td>\n",
       "      <td>1</td>\n",
       "      <td>1</td>\n",
       "      <td>0</td>\n",
       "      <td>0</td>\n",
       "      <td>0</td>\n",
       "      <td>0</td>\n",
       "    </tr>\n",
       "  </tbody>\n",
       "</table>\n",
       "</div>"
      ],
      "text/plain": [
       "    age  gender  height  weight  ap_hi  ap_lo  cholesterol  gluc  smoke  alco  \\\n",
       "id                                                                              \n",
       "0    50       2     168    62.0    110     80            1     1      0     0   \n",
       "1    55       1     156    85.0    140     90            3     1      0     0   \n",
       "2    51       1     165    64.0    130     70            3     1      0     0   \n",
       "3    48       2     169    82.0    150    100            1     1      0     0   \n",
       "4    47       1     156    56.0    100     60            1     1      0     0   \n",
       "8    60       1     151    67.0    120     80            2     2      0     0   \n",
       "9    60       1     157    93.0    130     80            3     1      0     0   \n",
       "12   61       2     178    95.0    130     90            3     3      0     0   \n",
       "13   48       1     158    71.0    110     70            1     1      0     0   \n",
       "14   54       1     164    68.0    110     60            1     1      0     0   \n",
       "\n",
       "    active  cardio  \n",
       "id                  \n",
       "0        1       0  \n",
       "1        1       1  \n",
       "2        0       1  \n",
       "3        1       1  \n",
       "4        0       0  \n",
       "8        0       0  \n",
       "9        1       0  \n",
       "12       1       1  \n",
       "13       1       0  \n",
       "14       0       0  "
      ]
     },
     "execution_count": 5,
     "metadata": {},
     "output_type": "execute_result"
    }
   ],
   "source": [
    "data[\"age\"] = data[\"age\"].apply(lambda x: x//365) # Floor division to round down the age to the nearest whole number\n",
    "data.head(10)"
   ]
  },
  {
   "cell_type": "markdown",
   "id": "548b3d68",
   "metadata": {},
   "source": [
    "### `Exploratory Data Analysis`"
   ]
  },
  {
   "cell_type": "markdown",
   "id": "5ef1e8ce",
   "metadata": {},
   "source": [
    "#### `Age`"
   ]
  },
  {
   "cell_type": "code",
   "execution_count": 6,
   "id": "8b24c3f0",
   "metadata": {},
   "outputs": [
    {
     "name": "stdout",
     "output_type": "stream",
     "text": [
      "Skew:  -0.3057373469819291\n"
     ]
    },
    {
     "data": {
      "text/plain": [
       "Text(0.5, 0, 'Age')"
      ]
     },
     "execution_count": 6,
     "metadata": {},
     "output_type": "execute_result"
    },
    {
     "data": {
      "image/png": "[encoded data removed]",
      "text/plain": [
       "<Figure size 800x500 with 1 Axes>"
      ]
     },
     "metadata": {},
     "output_type": "display_data"
    }
   ],
   "source": [
    "# Mean age\n",
    "mean_age = np.mean(data['age'])\n",
    "\n",
    "# Determine the skew\n",
    "print(\"Skew: \", st.skew(data['age']))\n",
    "\n",
    "# Distribution of the age variable\n",
    "fig, ax = plt.subplots(figsize=(8,5))\n",
    "sns.histplot(data=data['age'], kde=True)\n",
    "ax.set_title(\"Age Distribution\")\n",
    "ax.set_xlabel(\"Age\")"
   ]
  },
  {
   "cell_type": "code",
   "execution_count": 7,
   "id": "b822bd1c",
   "metadata": {},
   "outputs": [],
   "source": [
    "# Gender distribution ~ replace 1 with 'female' and 2 with 'male'\n",
    "data['gender'].replace({1:'female', 2:'male'}, inplace=True)\n"
   ]
  },
  {
   "cell_type": "code",
   "execution_count": 8,
   "id": "ec149894",
   "metadata": {},
   "outputs": [
    {
     "name": "stdout",
     "output_type": "stream",
     "text": [
      "The gender distribution is imbalanced, with a difference of:  21060\n"
     ]
    },
    {
     "data": {
      "text/plain": [
       "Text(0.5, 0, 'Gender')"
      ]
     },
     "execution_count": 8,
     "metadata": {},
     "output_type": "execute_result"
    },
    {
     "data": {
      "image/png": "[encoded data removed]",
      "text/plain": [
       "<Figure size 800x400 with 1 Axes>"
      ]
     },
     "metadata": {},
     "output_type": "display_data"
    }
   ],
   "source": [
    "# Gender distribution\n",
    "data_points = data['gender'].value_counts(ascending=True)\n",
    "# Check data imbalance\n",
    "if (data_points.values[0] != data_points.values[1]):\n",
    "    print('The gender distribution is imbalanced, with a difference of: ', np.abs(data_points.values[0]-data_points.values[1]))\n",
    "\n",
    "# Visual\n",
    "fig, ax = plt.subplots(figsize=(8,4))\n",
    "sns.barplot(x=data_points.index, y=data_points.values, palette='cool')\n",
    "ax.set_title('Gender Distribution')\n",
    "ax.set_ylabel('Number')\n",
    "ax.set_xlabel('Gender')"
   ]
  },
  {
   "cell_type": "code",
   "execution_count": null,
   "id": "b5aaaf85",
   "metadata": {},
   "outputs": [],
   "source": []
  },
  {
   "cell_type": "code",
   "execution_count": 9,
   "id": "02141b79",
   "metadata": {},
   "outputs": [
    {
     "data": {
      "text/html": [
       "<div>\n",
       "<style scoped>\n",
       "    .dataframe tbody tr th:only-of-type {\n",
       "        vertical-align: middle;\n",
       "    }\n",
       "\n",
       "    .dataframe tbody tr th {\n",
       "        vertical-align: top;\n",
       "    }\n",
       "\n",
       "    .dataframe thead th {\n",
       "        text-align: right;\n",
       "    }\n",
       "</style>\n",
       "<table border=\"1\" class=\"dataframe\">\n",
       "  <thead>\n",
       "    <tr style=\"text-align: right;\">\n",
       "      <th></th>\n",
       "      <th>min</th>\n",
       "      <th>max</th>\n",
       "      <th>mean</th>\n",
       "      <th>std</th>\n",
       "    </tr>\n",
       "    <tr>\n",
       "      <th>gender</th>\n",
       "      <th></th>\n",
       "      <th></th>\n",
       "      <th></th>\n",
       "      <th></th>\n",
       "    </tr>\n",
       "  </thead>\n",
       "  <tbody>\n",
       "    <tr>\n",
       "      <th>female</th>\n",
       "      <td>29</td>\n",
       "      <td>64</td>\n",
       "      <td>52.954338</td>\n",
       "      <td>6.670351</td>\n",
       "    </tr>\n",
       "    <tr>\n",
       "      <th>male</th>\n",
       "      <td>29</td>\n",
       "      <td>64</td>\n",
       "      <td>52.629179</td>\n",
       "      <td>6.937803</td>\n",
       "    </tr>\n",
       "  </tbody>\n",
       "</table>\n",
       "</div>"
      ],
      "text/plain": [
       "        min  max       mean       std\n",
       "gender                               \n",
       "female   29   64  52.954338  6.670351\n",
       "male     29   64  52.629179  6.937803"
      ]
     },
     "execution_count": 9,
     "metadata": {},
     "output_type": "execute_result"
    }
   ],
   "source": [
    "# Age and gender distribution\n",
    "data.groupby('gender')['age'].aggregate(['min','max','mean','std'])"
   ]
  },
  {
   "cell_type": "markdown",
   "id": "9f6a5524",
   "metadata": {},
   "source": [
    "- `The data is efficiently spread out, given the standard deviation of approximately 6 units from the mean for both genders.`\n",
    "- `The data consists of age range between 29 - 64 for both genders.`\n",
    "- `The mean of the data is almost similar for both genders, signifying balance in age distribution.`"
   ]
  },
  {
   "cell_type": "markdown",
   "id": "c777f7a9",
   "metadata": {},
   "source": [
    "#### `Body-Mass Index (BMI)`"
   ]
  },
  {
   "cell_type": "markdown",
   "id": "aafff132",
   "metadata": {},
   "source": [
    "`NOTE:` Higher BMI, particularly in the overweight and obese ranges, is associated with an increased risk of developing various cardiovascular diseases (CVDs). Obesity, often indicated by a high BMI, is a major contributor to the development of other CVD risk factors.\n",
    "- The BMI will be determined using the formula: \n",
    "BMI = weight (kg) / height (m)$^2$ \n"
   ]
  },
  {
   "cell_type": "code",
   "execution_count": 10,
   "id": "70a298c5",
   "metadata": {},
   "outputs": [],
   "source": [
    "# BMI for the data\n",
    "data['bmi'] = round(data['weight']/data['height'].apply(lambda x: x/100), 1)"
   ]
  },
  {
   "cell_type": "code",
   "execution_count": 11,
   "id": "98bf65fd",
   "metadata": {},
   "outputs": [
    {
     "data": {
      "text/plain": [
       "<Axes: xlabel='bmi', ylabel='Count'>"
      ]
     },
     "execution_count": 11,
     "metadata": {},
     "output_type": "execute_result"
    },
    {
     "data": {
      "image/png": "[encoded data removed]",
      "text/plain": [
       "<Figure size 1000x500 with 6 Axes>"
      ]
     },
     "metadata": {},
     "output_type": "display_data"
    }
   ],
   "source": [
    "fig, axes = plt.subplots(nrows=3, ncols=2, figsize=(10,5))\n",
    "sns.boxenplot(data=data['weight'], ax=axes[0][0])\n",
    "sns.histplot(data=data['weight'], ax=axes[0][1], kde=True)\n",
    "sns.boxenplot(data=data['height']/100, ax=axes[1][0])\n",
    "sns.histplot(data=data['height']/100, ax=axes[1][1], kde=True)\n",
    "sns.boxenplot(data=data['bmi'], ax=axes[2][0])\n",
    "sns.histplot(data=data['bmi'], ax=axes[2][1], kde=True)"
   ]
  },
  {
   "cell_type": "markdown",
   "id": "7028c26b",
   "metadata": {},
   "source": [
    "`NOTE:` The healthy range for an adult individual is 18.5 - 24.9"
   ]
  },
  {
   "cell_type": "markdown",
   "id": "e034b575",
   "metadata": {},
   "source": [
    "### `References`"
   ]
  },
  {
   "cell_type": "markdown",
   "id": "5fb9676c",
   "metadata": {},
   "source": [
    "- Rana, N., Sharma, K., & Sharma, A. (2025). Diagnostic strategies using AI and ML in cardiovascular diseases: Challenges and future perspectives. In Deep Learning and Computer Vision: Models and Biomedical Applications: Volume 1 (pp. 135-165). Singapore: Springer Nature Singapore. https://link.springer.com/chapter/10.1007/978-981-96-1285-7_7"
   ]
  }
 ],
 "metadata": {
  "kernelspec": {
   "display_name": "base",
   "language": "python",
   "name": "python3"
  },
  "language_info": {
   "codemirror_mode": {
    "name": "ipython",
    "version": 3
   },
   "file_extension": ".py",
   "mimetype": "text/x-python",
   "name": "python",
   "nbconvert_exporter": "python",
   "pygments_lexer": "ipython3",
   "version": "3.12.4"
  }
 },
 "nbformat": 4,
 "nbformat_minor": 5
}
