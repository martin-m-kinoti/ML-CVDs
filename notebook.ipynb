{
 "cells": [
  {
   "cell_type": "markdown",
   "id": "b8ec5d44",
   "metadata": {},
   "source": [
    "## `Influence of Machine Learning on the Diagnosis of Cardiovascular Diseases`"
   ]
  },
  {
   "cell_type": "markdown",
   "id": "6aeec915",
   "metadata": {},
   "source": [
    "### `Problem Statement`"
   ]
  },
  {
   "cell_type": "markdown",
   "id": "096f3092",
   "metadata": {},
   "source": [
    "Cardiovascular Diseases (CVDs) are considered the leading cause of mortality globally, with at least `80%` of deaths associated with heart disease and strokes in individuals below the age of `70 years` (Rana et al., 2025). Indications that a patient has CVD are high levels of biomarkers in their blood, significant chest pain and abnormal readings on an ECG. Surprisingly, a lot of patients with CVD are difficult to diagnose using ECG when their results are largely normal. Therefore, the use of AI approaches can make a significant difference in how we diagnose CVD, ultimately improving the outcomes."
   ]
  },
  {
   "cell_type": "markdown",
   "id": "20bf3fb5",
   "metadata": {},
   "source": [
    "### `Objectives`"
   ]
  },
  {
   "cell_type": "markdown",
   "id": "b106d95e",
   "metadata": {},
   "source": [
    "#### `General Objective`\n",
    "- To develop a machine learning predictive model to aid in the diagnosis of cardiovascular diseases."
   ]
  },
  {
   "cell_type": "markdown",
   "id": "fc3b93b9",
   "metadata": {},
   "source": [
    "#### `Specific Objectives`"
   ]
  },
  {
   "cell_type": "markdown",
   "id": "2e9d7bc5",
   "metadata": {},
   "source": [
    "- To examine the appliations of machine learning in the diagnosis of CVDs.\n",
    "- To evaluate the accuracy of machine learning tools in the diagnosis of CVDs.\n",
    "- To design a machine learning model to diagnose CVDs.\n",
    "- To evaluate and validate the developed CVDs diagnosing machine learning model using performance metrics."
   ]
  },
  {
   "cell_type": "markdown",
   "id": "41c582e7",
   "metadata": {},
   "source": [
    "### `Data Understanding`"
   ]
  },
  {
   "cell_type": "markdown",
   "id": "e034b575",
   "metadata": {},
   "source": []
  }
 ],
 "metadata": {
  "language_info": {
   "name": "python"
  }
 },
 "nbformat": 4,
 "nbformat_minor": 5
}
