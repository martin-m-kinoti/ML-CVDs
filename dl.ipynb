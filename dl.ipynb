{
 "cells": [
  {
   "cell_type": "markdown",
   "id": "32faa7f1",
   "metadata": {},
   "source": [
    "## `Deep Learning`"
   ]
  },
  {
   "cell_type": "code",
   "execution_count": 85,
   "id": "81eb650f",
   "metadata": {},
   "outputs": [],
   "source": [
    "import pandas as pd\n",
    "import pickle\n",
    "import matplotlib.pyplot as plt\n",
    "%matplotlib inline\n",
    "import seaborn as sns\n",
    "\n",
    "from sklearn.model_selection import train_test_split\n",
    "import tensorflow as tf\n",
    "from tensorflow.keras import Sequential, layers, regularizers\n",
    "from tensorflow.keras.metrics import Recall"
   ]
  },
  {
   "cell_type": "code",
   "execution_count": 2,
   "id": "1af42e57",
   "metadata": {},
   "outputs": [
    {
     "data": {
      "text/html": [
       "<div>\n",
       "<style scoped>\n",
       "    .dataframe tbody tr th:only-of-type {\n",
       "        vertical-align: middle;\n",
       "    }\n",
       "\n",
       "    .dataframe tbody tr th {\n",
       "        vertical-align: top;\n",
       "    }\n",
       "\n",
       "    .dataframe thead th {\n",
       "        text-align: right;\n",
       "    }\n",
       "</style>\n",
       "<table border=\"1\" class=\"dataframe\">\n",
       "  <thead>\n",
       "    <tr style=\"text-align: right;\">\n",
       "      <th></th>\n",
       "      <th>age</th>\n",
       "      <th>gender</th>\n",
       "      <th>height</th>\n",
       "      <th>weight</th>\n",
       "      <th>ap_hi</th>\n",
       "      <th>ap_lo</th>\n",
       "      <th>cholesterol</th>\n",
       "      <th>gluc</th>\n",
       "      <th>smoke</th>\n",
       "      <th>alco</th>\n",
       "      <th>active</th>\n",
       "      <th>cardio</th>\n",
       "      <th>bmi</th>\n",
       "      <th>blood_pressure</th>\n",
       "      <th>age_blood_press</th>\n",
       "      <th>age_chol</th>\n",
       "      <th>age_smoking</th>\n",
       "      <th>bmi_glu</th>\n",
       "    </tr>\n",
       "    <tr>\n",
       "      <th>id</th>\n",
       "      <th></th>\n",
       "      <th></th>\n",
       "      <th></th>\n",
       "      <th></th>\n",
       "      <th></th>\n",
       "      <th></th>\n",
       "      <th></th>\n",
       "      <th></th>\n",
       "      <th></th>\n",
       "      <th></th>\n",
       "      <th></th>\n",
       "      <th></th>\n",
       "      <th></th>\n",
       "      <th></th>\n",
       "      <th></th>\n",
       "      <th></th>\n",
       "      <th></th>\n",
       "      <th></th>\n",
       "    </tr>\n",
       "  </thead>\n",
       "  <tbody>\n",
       "    <tr>\n",
       "      <th>0</th>\n",
       "      <td>50</td>\n",
       "      <td>0</td>\n",
       "      <td>168</td>\n",
       "      <td>62.0</td>\n",
       "      <td>110</td>\n",
       "      <td>80</td>\n",
       "      <td>1</td>\n",
       "      <td>1</td>\n",
       "      <td>0</td>\n",
       "      <td>0</td>\n",
       "      <td>1</td>\n",
       "      <td>0</td>\n",
       "      <td>22.0</td>\n",
       "      <td>8800</td>\n",
       "      <td>440000</td>\n",
       "      <td>50</td>\n",
       "      <td>0</td>\n",
       "      <td>22.0</td>\n",
       "    </tr>\n",
       "    <tr>\n",
       "      <th>1</th>\n",
       "      <td>55</td>\n",
       "      <td>1</td>\n",
       "      <td>156</td>\n",
       "      <td>85.0</td>\n",
       "      <td>140</td>\n",
       "      <td>90</td>\n",
       "      <td>3</td>\n",
       "      <td>1</td>\n",
       "      <td>0</td>\n",
       "      <td>0</td>\n",
       "      <td>1</td>\n",
       "      <td>1</td>\n",
       "      <td>34.9</td>\n",
       "      <td>12600</td>\n",
       "      <td>693000</td>\n",
       "      <td>165</td>\n",
       "      <td>0</td>\n",
       "      <td>34.9</td>\n",
       "    </tr>\n",
       "    <tr>\n",
       "      <th>2</th>\n",
       "      <td>51</td>\n",
       "      <td>1</td>\n",
       "      <td>165</td>\n",
       "      <td>64.0</td>\n",
       "      <td>130</td>\n",
       "      <td>70</td>\n",
       "      <td>3</td>\n",
       "      <td>1</td>\n",
       "      <td>0</td>\n",
       "      <td>0</td>\n",
       "      <td>0</td>\n",
       "      <td>1</td>\n",
       "      <td>23.5</td>\n",
       "      <td>9100</td>\n",
       "      <td>464100</td>\n",
       "      <td>153</td>\n",
       "      <td>0</td>\n",
       "      <td>23.5</td>\n",
       "    </tr>\n",
       "    <tr>\n",
       "      <th>3</th>\n",
       "      <td>48</td>\n",
       "      <td>0</td>\n",
       "      <td>169</td>\n",
       "      <td>82.0</td>\n",
       "      <td>150</td>\n",
       "      <td>100</td>\n",
       "      <td>1</td>\n",
       "      <td>1</td>\n",
       "      <td>0</td>\n",
       "      <td>0</td>\n",
       "      <td>1</td>\n",
       "      <td>1</td>\n",
       "      <td>28.7</td>\n",
       "      <td>15000</td>\n",
       "      <td>720000</td>\n",
       "      <td>48</td>\n",
       "      <td>0</td>\n",
       "      <td>28.7</td>\n",
       "    </tr>\n",
       "    <tr>\n",
       "      <th>4</th>\n",
       "      <td>47</td>\n",
       "      <td>1</td>\n",
       "      <td>156</td>\n",
       "      <td>56.0</td>\n",
       "      <td>100</td>\n",
       "      <td>60</td>\n",
       "      <td>1</td>\n",
       "      <td>1</td>\n",
       "      <td>0</td>\n",
       "      <td>0</td>\n",
       "      <td>0</td>\n",
       "      <td>0</td>\n",
       "      <td>23.0</td>\n",
       "      <td>6000</td>\n",
       "      <td>282000</td>\n",
       "      <td>47</td>\n",
       "      <td>0</td>\n",
       "      <td>23.0</td>\n",
       "    </tr>\n",
       "  </tbody>\n",
       "</table>\n",
       "</div>"
      ],
      "text/plain": [
       "    age  gender  height  weight  ap_hi  ap_lo  cholesterol  gluc  smoke  alco  \\\n",
       "id                                                                              \n",
       "0    50       0     168    62.0    110     80            1     1      0     0   \n",
       "1    55       1     156    85.0    140     90            3     1      0     0   \n",
       "2    51       1     165    64.0    130     70            3     1      0     0   \n",
       "3    48       0     169    82.0    150    100            1     1      0     0   \n",
       "4    47       1     156    56.0    100     60            1     1      0     0   \n",
       "\n",
       "    active  cardio   bmi  blood_pressure  age_blood_press  age_chol  \\\n",
       "id                                                                    \n",
       "0        1       0  22.0            8800           440000        50   \n",
       "1        1       1  34.9           12600           693000       165   \n",
       "2        0       1  23.5            9100           464100       153   \n",
       "3        1       1  28.7           15000           720000        48   \n",
       "4        0       0  23.0            6000           282000        47   \n",
       "\n",
       "    age_smoking  bmi_glu  \n",
       "id                        \n",
       "0             0     22.0  \n",
       "1             0     34.9  \n",
       "2             0     23.5  \n",
       "3             0     28.7  \n",
       "4             0     23.0  "
      ]
     },
     "execution_count": 2,
     "metadata": {},
     "output_type": "execute_result"
    }
   ],
   "source": [
    "data = pd.read_csv(\"features.csv\", index_col=0)\n",
    "data.head()"
   ]
  },
  {
   "cell_type": "code",
   "execution_count": 3,
   "id": "c69601cf",
   "metadata": {},
   "outputs": [],
   "source": [
    "# Data split\n",
    "X = data.drop(columns=['cardio'])\n",
    "y = data['cardio']\n",
    "X_train, X_test, y_train, y_test = train_test_split(X,\n",
    "                                                    y,\n",
    "                                                    test_size=.20,\n",
    "                                                    random_state=123)"
   ]
  },
  {
   "cell_type": "code",
   "execution_count": 4,
   "id": "bfa44934",
   "metadata": {},
   "outputs": [],
   "source": [
    "# Standard scaler\n",
    "with open(\"std_scaler.pkl\", \"rb\") as f:\n",
    "    scaler = pickle.load(f)"
   ]
  },
  {
   "cell_type": "code",
   "execution_count": 5,
   "id": "98f3b502",
   "metadata": {},
   "outputs": [
    {
     "data": {
      "text/plain": [
       "((54804, 17), (54804,), (13702, 17), (54804,))"
      ]
     },
     "execution_count": 5,
     "metadata": {},
     "output_type": "execute_result"
    }
   ],
   "source": [
    "X_train.shape, y_train.shape, X_test.shape, y_train.shape"
   ]
  },
  {
   "cell_type": "code",
   "execution_count": 6,
   "id": "db1c61af",
   "metadata": {},
   "outputs": [],
   "source": [
    "# Scale X_train and X_test\n",
    "scaled_X_train = scaler.transform(X_train)\n",
    "scaled_X_test = scaler.transform(X_test)"
   ]
  },
  {
   "cell_type": "markdown",
   "id": "84cc74a9",
   "metadata": {},
   "source": [
    "#### `Base Sequential Model`"
   ]
  },
  {
   "cell_type": "code",
   "execution_count": 14,
   "id": "dbdda0ea",
   "metadata": {},
   "outputs": [
    {
     "data": {
      "text/plain": [
       "54804"
      ]
     },
     "execution_count": 14,
     "metadata": {},
     "output_type": "execute_result"
    }
   ],
   "source": [
    "scaled_X_train.shape[0]"
   ]
  },
  {
   "cell_type": "code",
   "execution_count": null,
   "id": "30dd71bf",
   "metadata": {},
   "outputs": [
    {
     "name": "stdout",
     "output_type": "stream",
     "text": [
      "Epoch 1/10\n"
     ]
    },
    {
     "name": "stderr",
     "output_type": "stream",
     "text": [
      "c:\\ProgramData\\anaconda3\\Lib\\site-packages\\keras\\src\\layers\\core\\dense.py:92: UserWarning: Do not pass an `input_shape`/`input_dim` argument to a layer. When using Sequential models, prefer using an `Input(shape)` object as the first layer in the model instead.\n",
      "  super().__init__(activity_regularizer=activity_regularizer, **kwargs)\n"
     ]
    },
    {
     "name": "stdout",
     "output_type": "stream",
     "text": [
      "\u001b[1m2741/2741\u001b[0m \u001b[32m━━━━━━━━━━━━━━━━━━━━\u001b[0m\u001b[37m\u001b[0m \u001b[1m7s\u001b[0m 2ms/step - loss: 0.5533 - recall: 0.6966 - val_loss: 0.5466 - val_recall: 0.6945\n",
      "Epoch 2/10\n",
      "\u001b[1m2741/2741\u001b[0m \u001b[32m━━━━━━━━━━━━━━━━━━━━\u001b[0m\u001b[37m\u001b[0m \u001b[1m5s\u001b[0m 2ms/step - loss: 0.5461 - recall: 0.6968 - val_loss: 0.5439 - val_recall: 0.6955\n",
      "Epoch 3/10\n",
      "\u001b[1m2741/2741\u001b[0m \u001b[32m━━━━━━━━━━━━━━━━━━━━\u001b[0m\u001b[37m\u001b[0m \u001b[1m5s\u001b[0m 2ms/step - loss: 0.5448 - recall: 0.6968 - val_loss: 0.5452 - val_recall: 0.6742\n",
      "Epoch 4/10\n",
      "\u001b[1m2741/2741\u001b[0m \u001b[32m━━━━━━━━━━━━━━━━━━━━\u001b[0m\u001b[37m\u001b[0m \u001b[1m5s\u001b[0m 2ms/step - loss: 0.5431 - recall: 0.6951 - val_loss: 0.5434 - val_recall: 0.6725\n",
      "Epoch 5/10\n",
      "\u001b[1m2741/2741\u001b[0m \u001b[32m━━━━━━━━━━━━━━━━━━━━\u001b[0m\u001b[37m\u001b[0m \u001b[1m5s\u001b[0m 2ms/step - loss: 0.5423 - recall: 0.6945 - val_loss: 0.5484 - val_recall: 0.7100\n",
      "Epoch 6/10\n",
      "\u001b[1m2741/2741\u001b[0m \u001b[32m━━━━━━━━━━━━━━━━━━━━\u001b[0m\u001b[37m\u001b[0m \u001b[1m5s\u001b[0m 2ms/step - loss: 0.5419 - recall: 0.6954 - val_loss: 0.5429 - val_recall: 0.6967\n",
      "Epoch 7/10\n",
      "\u001b[1m2741/2741\u001b[0m \u001b[32m━━━━━━━━━━━━━━━━━━━━\u001b[0m\u001b[37m\u001b[0m \u001b[1m6s\u001b[0m 2ms/step - loss: 0.5413 - recall: 0.6945 - val_loss: 0.5456 - val_recall: 0.6813\n",
      "Epoch 8/10\n",
      "\u001b[1m2741/2741\u001b[0m \u001b[32m━━━━━━━━━━━━━━━━━━━━\u001b[0m\u001b[37m\u001b[0m \u001b[1m5s\u001b[0m 2ms/step - loss: 0.5408 - recall: 0.6938 - val_loss: 0.5439 - val_recall: 0.7000\n",
      "Epoch 9/10\n",
      "\u001b[1m2741/2741\u001b[0m \u001b[32m━━━━━━━━━━━━━━━━━━━━\u001b[0m\u001b[37m\u001b[0m \u001b[1m6s\u001b[0m 2ms/step - loss: 0.5403 - recall: 0.6936 - val_loss: 0.5444 - val_recall: 0.6936\n",
      "Epoch 10/10\n",
      "\u001b[1m2741/2741\u001b[0m \u001b[32m━━━━━━━━━━━━━━━━━━━━\u001b[0m\u001b[37m\u001b[0m \u001b[1m5s\u001b[0m 2ms/step - loss: 0.5397 - recall: 0.6928 - val_loss: 0.5421 - val_recall: 0.6978\n"
     ]
    }
   ],
   "source": [
    "# Base model with a single hidden layer\n",
    "base_net = Sequential()\n",
    "\n",
    "base_net.add(layers.Dense(64, activation='relu', input_shape=(X_train.shape[-1],))) # Input layer\n",
    "base_net.add(layers.Dense(32, activation='relu')) # Hidden layer\n",
    "base_net.add(layers.Dense(1, activation='sigmoid')) # Output layer\n",
    "\n",
    "# Model compile\n",
    "base_net.compile(\n",
    "    optimizer='adam',\n",
    "    metrics=[Recall()],\n",
    "    loss='binary_crossentropy'\n",
    ")\n",
    "\n",
    "# Model fit\n",
    "results = base_net.fit(\n",
    "    scaled_X_train,\n",
    "    y_train,\n",
    "    epochs=10,\n",
    "    batch_size=20,\n",
    "    validation_data=(scaled_X_test, y_test)\n",
    ")"
   ]
  },
  {
   "cell_type": "code",
   "execution_count": 81,
   "id": "9222dcea",
   "metadata": {},
   "outputs": [],
   "source": [
    "def net_results_viz(net_model_results):\n",
    "    recall = net_model_results.history['recall']\n",
    "    val_recall = net_model_results.history['val_recall']\n",
    "    loss = net_model_results.history['loss']\n",
    "    val_loss = net_model_results.history['val_loss']\n",
    "\n",
    "    fig, axes = plt.subplots(figsize=(10,4), ncols=2, nrows=1)\n",
    "    x_range = net_model_results.epoch # Number of model epochs\n",
    "    sns.lineplot(x=x_range, y=recall, ax=axes[0])\n",
    "    sns.lineplot(x=x_range, y=val_recall, ax=axes[0], color='green')\n",
    "    sns.lineplot(x=x_range, y=loss, ax=axes[1])\n",
    "    sns.lineplot(x=x_range, y=val_loss, ax=axes[1], color='green')\n",
    "\n",
    "    axes[0].set_xlabel(\"Epochs\")\n",
    "    axes[0].legend(['Recall', 'Validation Recall'])\n",
    "    axes[1].set_xlabel(\"Epochs\")\n",
    "    axes[0].set_ylabel(\"Recall\")\n",
    "    axes[1].set_ylabel(\"Loss\")\n",
    "    axes[1].legend(['Loss', 'Validation Loss'])\n",
    "\n",
    "    plt.show()"
   ]
  },
  {
   "cell_type": "code",
   "execution_count": 83,
   "id": "061b6fb5",
   "metadata": {},
   "outputs": [
    {
     "data": {
      "image/png": "[encoded data removed]",
      "text/plain": [
       "<Figure size 1000x400 with 2 Axes>"
      ]
     },
     "metadata": {},
     "output_type": "display_data"
    }
   ],
   "source": [
    "net_results_viz(results)"
   ]
  },
  {
   "cell_type": "markdown",
   "id": "09703ef0",
   "metadata": {},
   "source": [
    "#### `NN with 3 hidden layers`"
   ]
  },
  {
   "cell_type": "code",
   "execution_count": 87,
   "id": "3e4e7168",
   "metadata": {},
   "outputs": [
    {
     "data": {
      "text/plain": [
       "17"
      ]
     },
     "execution_count": 87,
     "metadata": {},
     "output_type": "execute_result"
    }
   ],
   "source": [
    "X_train.shape[-1]"
   ]
  },
  {
   "cell_type": "code",
   "execution_count": 88,
   "id": "98c6da20",
   "metadata": {},
   "outputs": [
    {
     "name": "stdout",
     "output_type": "stream",
     "text": [
      "Epoch 1/10\n"
     ]
    },
    {
     "name": "stderr",
     "output_type": "stream",
     "text": [
      "c:\\ProgramData\\anaconda3\\Lib\\site-packages\\keras\\src\\layers\\core\\dense.py:92: UserWarning: Do not pass an `input_shape`/`input_dim` argument to a layer. When using Sequential models, prefer using an `Input(shape)` object as the first layer in the model instead.\n",
      "  super().__init__(activity_regularizer=activity_regularizer, **kwargs)\n"
     ]
    },
    {
     "name": "stdout",
     "output_type": "stream",
     "text": [
      "\u001b[1m2741/2741\u001b[0m \u001b[32m━━━━━━━━━━━━━━━━━━━━\u001b[0m\u001b[37m\u001b[0m \u001b[1m8s\u001b[0m 2ms/step - loss: 0.5593 - recall_4: 0.6976 - val_loss: 0.5568 - val_recall_4: 0.6479\n",
      "Epoch 2/10\n",
      "\u001b[1m2741/2741\u001b[0m \u001b[32m━━━━━━━━━━━━━━━━━━━━\u001b[0m\u001b[37m\u001b[0m \u001b[1m6s\u001b[0m 2ms/step - loss: 0.5504 - recall_4: 0.6901 - val_loss: 0.5488 - val_recall_4: 0.6844\n",
      "Epoch 3/10\n",
      "\u001b[1m2741/2741\u001b[0m \u001b[32m━━━━━━━━━━━━━━━━━━━━\u001b[0m\u001b[37m\u001b[0m \u001b[1m6s\u001b[0m 2ms/step - loss: 0.5476 - recall_4: 0.6844 - val_loss: 0.5519 - val_recall_4: 0.6613\n",
      "Epoch 4/10\n",
      "\u001b[1m2741/2741\u001b[0m \u001b[32m━━━━━━━━━━━━━━━━━━━━\u001b[0m\u001b[37m\u001b[0m \u001b[1m6s\u001b[0m 2ms/step - loss: 0.5468 - recall_4: 0.6840 - val_loss: 0.5462 - val_recall_4: 0.6893\n",
      "Epoch 5/10\n",
      "\u001b[1m2741/2741\u001b[0m \u001b[32m━━━━━━━━━━━━━━━━━━━━\u001b[0m\u001b[37m\u001b[0m \u001b[1m6s\u001b[0m 2ms/step - loss: 0.5458 - recall_4: 0.6843 - val_loss: 0.5470 - val_recall_4: 0.6657\n",
      "Epoch 6/10\n",
      "\u001b[1m2741/2741\u001b[0m \u001b[32m━━━━━━━━━━━━━━━━━━━━\u001b[0m\u001b[37m\u001b[0m \u001b[1m6s\u001b[0m 2ms/step - loss: 0.5447 - recall_4: 0.6851 - val_loss: 0.5458 - val_recall_4: 0.6920\n",
      "Epoch 7/10\n",
      "\u001b[1m2741/2741\u001b[0m \u001b[32m━━━━━━━━━━━━━━━━━━━━\u001b[0m\u001b[37m\u001b[0m \u001b[1m6s\u001b[0m 2ms/step - loss: 0.5444 - recall_4: 0.6871 - val_loss: 0.5447 - val_recall_4: 0.6992\n",
      "Epoch 8/10\n",
      "\u001b[1m2741/2741\u001b[0m \u001b[32m━━━━━━━━━━━━━━━━━━━━\u001b[0m\u001b[37m\u001b[0m \u001b[1m6s\u001b[0m 2ms/step - loss: 0.5438 - recall_4: 0.6852 - val_loss: 0.5485 - val_recall_4: 0.7011\n",
      "Epoch 9/10\n",
      "\u001b[1m2741/2741\u001b[0m \u001b[32m━━━━━━━━━━━━━━━━━━━━\u001b[0m\u001b[37m\u001b[0m \u001b[1m6s\u001b[0m 2ms/step - loss: 0.5436 - recall_4: 0.6844 - val_loss: 0.5450 - val_recall_4: 0.6932\n",
      "Epoch 10/10\n",
      "\u001b[1m2741/2741\u001b[0m \u001b[32m━━━━━━━━━━━━━━━━━━━━\u001b[0m\u001b[37m\u001b[0m \u001b[1m6s\u001b[0m 2ms/step - loss: 0.5430 - recall_4: 0.6867 - val_loss: 0.5440 - val_recall_4: 0.6817\n"
     ]
    }
   ],
   "source": [
    "sec_net = Sequential([\n",
    "    layers.Dense(64, input_shape=(X_train.shape[-1],),kernel_regularizer=regularizers.l1_l2(l1=1e-5, l2=1e-4) , activation='relu'),\n",
    "    layers.Dense(32, activation='relu'),\n",
    "    layers.Dense(16, activation='relu'),\n",
    "    layers.Dense(8, activation='relu'),\n",
    "    layers.Dense(1, activation='sigmoid')\n",
    "])\n",
    "\n",
    "sec_net.compile(\n",
    "    optimizer='adam',\n",
    "    metrics=[Recall()],\n",
    "    loss='binary_crossentropy'\n",
    ")\n",
    "\n",
    "sec_net_results = sec_net.fit(\n",
    "    scaled_X_train,\n",
    "    y_train,\n",
    "    epochs=10,\n",
    "    batch_size=20,\n",
    "    validation_data=(scaled_X_test, y_test)\n",
    ")"
   ]
  },
  {
   "cell_type": "code",
   "execution_count": null,
   "id": "9ff9316a",
   "metadata": {},
   "outputs": [],
   "source": []
  }
 ],
 "metadata": {
  "kernelspec": {
   "display_name": "base",
   "language": "python",
   "name": "python3"
  },
  "language_info": {
   "codemirror_mode": {
    "name": "ipython",
    "version": 3
   },
   "file_extension": ".py",
   "mimetype": "text/x-python",
   "name": "python",
   "nbconvert_exporter": "python",
   "pygments_lexer": "ipython3",
   "version": "3.13.5"
  }
 },
 "nbformat": 4,
 "nbformat_minor": 5
}
